{
 "cells": [
  {
   "cell_type": "code",
   "execution_count": 1,
   "metadata": {},
   "outputs": [],
   "source": [
    "#the fuctions below can also be found in the digit_capture.py\n",
    "#library. They are in-line because of how colab gets packages.\n",
    "#Colab does not have access to self-written packages until\n",
    "#my google drive is mounted. That is why these packages are put in-line.\n",
    "#The code is also in a separate cell because the prompt for\n",
    "#entering the mount acees code (colab) pops up after the cell is executed.\n",
    "#Putting the code in its won cell makes it easier to\n",
    "#see the prompt.\n",
    "def mount_drive():\n",
    "    if(not in_colab()):\n",
    "        return\n",
    "    from google.colab import drive\n",
    "    drive.mount('/content/drive')\n",
    "def in_colab():\n",
    "    import sys\n",
    "    IN_COLAB = 'google.colab' in sys.modules\n",
    "    return int(IN_COLAB)\n",
    "mount_drive()"
   ]
  },
  {
   "cell_type": "code",
   "execution_count": 2,
   "metadata": {},
   "outputs": [],
   "source": [
    "#This code is in-line for the reason mentioned above. It is also in\n",
    "#digit_capture.py\n",
    "def set_file_name_prefix(colab):\n",
    "    # if colab=1, set up structure for colab.\n",
    "    # if colab=0, set up structure for local.\n",
    "    # if colab=2, set up structure when in /content/drive  \n",
    "    import sys\n",
    "    import os\n",
    "    t_prefix=\"\"\n",
    "    t_path=\"\"\n",
    "    if(in_colab()==1):\n",
    "        colab=1\n",
    "    if(colab==1):\n",
    "        t_path='/content/drive/My Drive/Colab Notebooks/digit_data_entry/digit_data_entry'\n",
    "        t_prefix=t_path+\"/\"\n",
    "    else:\n",
    "        if(colab==0):\n",
    "            t_prefix=\"/content/drive\"\n",
    "        st=os.getcwd()    \n",
    "        t_path=st+\"/\"+t_prefix\n",
    "        t_prefix=t_path+\"/\"\n",
    "    return (t_prefix,t_path)\n",
    "t_path=set_file_name_prefix(0)[1]\n",
    "t_prefx=set_file_name_prefix(0)[0]\n",
    "import sys\n",
    "if(in_colab()==1):\n",
    "    sys.path.append(t_path)"
   ]
  },
  {
   "cell_type": "code",
   "execution_count": 3,
   "metadata": {},
   "outputs": [],
   "source": [
    "from sklearn.model_selection import train_test_split\n",
    "from sklearn.model_selection import cross_val_score\n",
    "from sklearn.model_selection import GridSearchCV\n",
    "from sklearn.ensemble import RandomForestClassifier\n",
    "from sklearn.metrics import accuracy_score\n",
    "import pandas as pd\n",
    "from digit_capture import add_col_list,split_target_normalize\n",
    "#from digit_capture import mount_drive,in_colab,set_file_name_prefix\n",
    "#t_dir='/Users/peterstafford/Projects/steam/repo/digit_data_entry/content/drive/'\n",
    "t_dir=set_file_name_prefix(in_colab())[0]\n",
    "mount_drive()\n",
    "t_file='digit_data.csv'\n",
    "train_file = pd.read_csv(t_dir+t_file,header=None)"
   ]
  },
  {
   "cell_type": "code",
   "execution_count": 4,
   "metadata": {},
   "outputs": [],
   "source": [
    "tf=add_col_list(train_file)\n",
    "t_label='t_class'\n",
    "tf = split_target_normalize(tf,t_label)"
   ]
  },
  {
   "cell_type": "code",
   "execution_count": null,
   "metadata": {},
   "outputs": [],
   "source": [
    "tf.shape"
   ]
  },
  {
   "cell_type": "code",
   "execution_count": 5,
   "metadata": {},
   "outputs": [],
   "source": [
    "rfc=RandomForestClassifier(random_state=42)\n",
    "param_grid = { \n",
    "    'n_estimators': [50],\n",
    "    'max_features': ['auto'],\n",
    "    'max_depth' : [10],\n",
    "    'criterion' :['gini']\n",
    "}\n",
    "CV_rfc = GridSearchCV(estimator=rfc, param_grid=param_grid, cv=50)"
   ]
  },
  {
   "cell_type": "code",
   "execution_count": 6,
   "metadata": {},
   "outputs": [],
   "source": [
    "features=tf.drop(['t_class'],axis=1)\n",
    "target=tf['t_class']\n",
    "tmp=CV_rfc.fit(features,target)"
   ]
  },
  {
   "cell_type": "code",
   "execution_count": 7,
   "metadata": {},
   "outputs": [
    {
     "data": {
      "text/plain": [
       "0.9841975308641975"
      ]
     },
     "execution_count": 7,
     "metadata": {},
     "output_type": "execute_result"
    }
   ],
   "source": [
    "#CV_rfc.best_estimator_\n",
    "CV_rfc.best_score_"
   ]
  },
  {
   "cell_type": "code",
   "execution_count": null,
   "metadata": {},
   "outputs": [],
   "source": []
  }
 ],
 "metadata": {
  "kernelspec": {
   "display_name": "Python 3",
   "language": "python",
   "name": "python3"
  },
  "language_info": {
   "codemirror_mode": {
    "name": "ipython",
    "version": 3
   },
   "file_extension": ".py",
   "mimetype": "text/x-python",
   "name": "python",
   "nbconvert_exporter": "python",
   "pygments_lexer": "ipython3",
   "version": "3.6.6"
  }
 },
 "nbformat": 4,
 "nbformat_minor": 2
}
